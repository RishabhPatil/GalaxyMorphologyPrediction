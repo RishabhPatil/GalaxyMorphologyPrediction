{
 "cells": [
  {
   "cell_type": "code",
   "execution_count": 1,
   "metadata": {},
   "outputs": [
    {
     "data": {
      "text/plain": [
       "'asa'"
      ]
     },
     "execution_count": 1,
     "metadata": {},
     "output_type": "execute_result"
    }
   ],
   "source": [
    "\"asa\""
   ]
  },
  {
   "cell_type": "code",
   "execution_count": 1,
   "metadata": {},
   "outputs": [
    {
     "name": "stderr",
     "output_type": "stream",
     "text": [
      "C:\\Users\\Kshitij\\Anaconda3\\lib\\site-packages\\h5py\\__init__.py:36: FutureWarning: Conversion of the second argument of issubdtype from `float` to `np.floating` is deprecated. In future, it will be treated as `np.float64 == np.dtype(float).type`.\n",
      "  from ._conv import register_converters as _register_converters\n",
      "Using TensorFlow backend.\n"
     ]
    }
   ],
   "source": [
    "# %load view1.py\n",
    "import pandas as pd\n",
    "import numpy as np\n",
    "np.random.seed(1337)\n",
    "import tensorflow as tf\n",
    "from keras import backend as K\n",
    "from keras.models import Sequential\n",
    "from keras.layers.core import Dense, Dropout, Activation, Flatten\n",
    "from keras.layers.convolutional import Convolution2D, MaxPooling2D\n",
    "from keras.utils import np_utils\n",
    "import tensorflow as tf\n",
    "from keras.backend.tensorflow_backend import set_session\n",
    "config = tf.ConfigProto()\n",
    "config.gpu_options.per_process_gpu_memory_fraction = 0.3\n",
    "set_session(tf.Session(config=config))"
   ]
  },
  {
   "cell_type": "code",
   "execution_count": 2,
   "metadata": {},
   "outputs": [],
   "source": [
    "img_rows, img_cols = 28,28\n",
    "\n",
    "batch_size = 128 # Number of images used in each optimization step\n",
    "nb_classes = 3 # One class per digit\n",
    "nb_epoch = 1 # Number of times the whole data is used to learn\n",
    "\n",
    "train = pd.read_csv(\"output_rotated.csv\").values\n",
    "#test  = pd.read_csv(\"test.csv\").values"
   ]
  },
  {
   "cell_type": "code",
   "execution_count": 3,
   "metadata": {},
   "outputs": [
    {
     "data": {
      "text/plain": [
       "61578"
      ]
     },
     "execution_count": 3,
     "metadata": {},
     "output_type": "execute_result"
    }
   ],
   "source": [
    "len(set(train[:,0]))"
   ]
  },
  {
   "cell_type": "code",
   "execution_count": 4,
   "metadata": {},
   "outputs": [],
   "source": [
    "# Check Keras backend\n",
    "if(K.image_dim_ordering()==\"th\"):\n",
    "    # Reshape the data to be used by a Theano CNN. Shape is\n",
    "    # (nb_of_samples, nb_of_color_channels, img_width, img_heigh)\n",
    "    X_train = train[:, 1:].reshape(train.shape[0], 1, img_rows, img_cols)\n",
    "    X_test = test.reshape(test.shape[0], 1, img_rows, img_cols)\n",
    "    in_shape = (1, img_rows, img_cols)\n",
    "else:\n",
    "    # Reshape the data to be used by a Tensorflow CNN. Shape is\n",
    "    # (nb_of_samples, img_width, img_heigh, nb_of_color_channels)\n",
    "    X_train = train[:, 2:].reshape(train.shape[0], img_rows, img_cols, 1)\n",
    "#     X_test = test.reshape(test.shape[0], img_rows, img_cols, 1)\n",
    "    in_shape = (img_rows, img_cols, 1)"
   ]
  },
  {
   "cell_type": "code",
   "execution_count": 5,
   "metadata": {},
   "outputs": [
    {
     "name": "stdout",
     "output_type": "stream",
     "text": [
      "{0, 1, 2}\n",
      "X_train shape: (246312, 28, 28, 1)\n",
      "Y_train shape: (246312, 3)\n"
     ]
    }
   ],
   "source": [
    "y_train = train[:, 1] # First data is label (already removed from X_train)\n",
    "\n",
    "for i in range(len(y_train)):\n",
    "    y_train[i] -= 1\n",
    "\n",
    "print(set(y_train))\n",
    "\n",
    "# Make the value floats in [0;1] instead of int in [0;255]\n",
    "X_train = X_train.astype('float32')\n",
    "# X_test = X_test.astype('float32')\n",
    "X_train /= 255\n",
    "# X_test /= 255\n",
    "\n",
    "# convert class vectors to binary class matrices (ie one-hot vectors)\n",
    "Y_train = np_utils.to_categorical(y_train, nb_classes)\n",
    "\n",
    "#Display the shapes to check if everything's ok\n",
    "print('X_train shape:', X_train.shape)\n",
    "print('Y_train shape:', Y_train.shape)\n",
    "# print('X_test shape:', X_test.shape)"
   ]
  },
  {
   "cell_type": "code",
   "execution_count": 7,
   "metadata": {},
   "outputs": [
    {
     "name": "stderr",
     "output_type": "stream",
     "text": [
      "C:\\Users\\Kshitij\\Anaconda3\\lib\\site-packages\\ipykernel_launcher.py:5: UserWarning: Update your `Conv2D` call to the Keras 2 API: `Conv2D(12, (5, 5), activation=\"relu\", input_shape=(28, 28, 1..., kernel_initializer=\"he_normal\")`\n",
      "  \"\"\"\n",
      "C:\\Users\\Kshitij\\Anaconda3\\lib\\site-packages\\ipykernel_launcher.py:10: UserWarning: Update your `Conv2D` call to the Keras 2 API: `Conv2D(25, (5, 5), activation=\"relu\", kernel_initializer=\"he_normal\")`\n",
      "  # Remove the CWD from sys.path while we load stuff.\n",
      "C:\\Users\\Kshitij\\Anaconda3\\lib\\site-packages\\ipykernel_launcher.py:16: UserWarning: Update your `Dense` call to the Keras 2 API: `Dense(180, activation=\"relu\", kernel_initializer=\"he_normal\")`\n",
      "  app.launch_new_instance()\n",
      "C:\\Users\\Kshitij\\Anaconda3\\lib\\site-packages\\ipykernel_launcher.py:18: UserWarning: Update your `Dense` call to the Keras 2 API: `Dense(100, activation=\"relu\", kernel_initializer=\"he_normal\")`\n",
      "C:\\Users\\Kshitij\\Anaconda3\\lib\\site-packages\\ipykernel_launcher.py:20: UserWarning: Update your `Dense` call to the Keras 2 API: `Dense(3, activation=\"softmax\", kernel_initializer=\"he_normal\")`\n",
      "C:\\Users\\Kshitij\\Anaconda3\\lib\\site-packages\\ipykernel_launcher.py:27: UserWarning: The `nb_epoch` argument in `fit` has been renamed `epochs`.\n"
     ]
    },
    {
     "name": "stdout",
     "output_type": "stream",
     "text": [
      "Epoch 1/10\n",
      "246312/246312 [==============================] - 48s 194us/step - loss: 0.6547 - acc: 0.7260\n",
      "Epoch 2/10\n",
      "246312/246312 [==============================] - 48s 196us/step - loss: 0.5996 - acc: 0.7624\n",
      "Epoch 3/10\n",
      "246312/246312 [==============================] - 46s 187us/step - loss: 0.5856 - acc: 0.7690\n",
      "Epoch 4/10\n",
      "246312/246312 [==============================] - 43s 177us/step - loss: 0.5767 - acc: 0.7729\n",
      "Epoch 5/10\n",
      "246312/246312 [==============================] - 47s 189us/step - loss: 0.5710 - acc: 0.7758\n",
      "Epoch 6/10\n",
      "246312/246312 [==============================] - 46s 188us/step - loss: 0.5671 - acc: 0.7776\n",
      "Epoch 7/10\n",
      "246312/246312 [==============================] - 44s 179us/step - loss: 0.5624 - acc: 0.7795\n",
      "Epoch 8/10\n",
      "246312/246312 [==============================] - 43s 174us/step - loss: 0.5587 - acc: 0.7811\n",
      "Epoch 9/10\n",
      "246312/246312 [==============================] - 43s 175us/step - loss: 0.5553 - acc: 0.7824\n",
      "Epoch 10/10\n",
      "246312/246312 [==============================] - 180s 732us/step - loss: 0.5530 - acc: 0.7840\n"
     ]
    },
    {
     "data": {
      "text/plain": [
       "<keras.callbacks.History at 0xd9e12b0978>"
      ]
     },
     "execution_count": 7,
     "metadata": {},
     "output_type": "execute_result"
    }
   ],
   "source": [
    "model = Sequential()\n",
    "# For an explanation on conv layers see http://cs231n.github.io/convolutional-networks/#conv\n",
    "# By default the stride/subsample is 1 and there is no zero-padding.\n",
    "# If you want zero-padding add a ZeroPadding layer or, if stride is 1 use border_mode=\"same\"\n",
    "model.add(Convolution2D(12, 5, 5, activation = 'relu', input_shape=in_shape, init='he_normal'))\n",
    "\n",
    "# For an explanation on pooling layers see http://cs231n.github.io/convolutional-networks/#pool\n",
    "model.add(MaxPooling2D(pool_size=(2, 2)))\n",
    "\n",
    "model.add(Convolution2D(25, 5, 5, activation = 'relu', init='he_normal'))\n",
    "\n",
    "model.add(MaxPooling2D(pool_size=(2, 2)))\n",
    "\n",
    "# Flatten the 3D output to 1D tensor for a fully connected layer to accept the input\n",
    "model.add(Flatten())\n",
    "model.add(Dense(180, activation = 'relu', init='he_normal'))\n",
    "model.add(Dropout(0.5))\n",
    "model.add(Dense(100, activation = 'relu', init='he_normal'))\n",
    "model.add(Dropout(0.5))\n",
    "model.add(Dense(nb_classes, activation = 'softmax', init='he_normal')) #Last layer with one output per class\n",
    "\n",
    "# The function to optimize is the cross entropy between the true label and the output (softmax) of the model\n",
    "# We will use adadelta to do the gradient descent see http://cs231n.github.io/neural-networks-3/#ada\n",
    "model.compile(loss='categorical_crossentropy', optimizer='adamax', metrics=[\"accuracy\"])\n",
    "\n",
    "# Make the model learn\n",
    "model.fit(X_train, Y_train, batch_size=batch_size, nb_epoch=10, verbose=1)\n",
    "\n",
    "# Predict the label for X_test\n",
    "# yPred = model.predict_classes(X_test)"
   ]
  },
  {
   "cell_type": "code",
   "execution_count": null,
   "metadata": {},
   "outputs": [],
   "source": []
  }
 ],
 "metadata": {
  "kernelspec": {
   "display_name": "Python 3",
   "language": "python",
   "name": "python3"
  },
  "language_info": {
   "codemirror_mode": {
    "name": "ipython",
    "version": 3
   },
   "file_extension": ".py",
   "mimetype": "text/x-python",
   "name": "python",
   "nbconvert_exporter": "python",
   "pygments_lexer": "ipython3",
   "version": "3.6.5"
  }
 },
 "nbformat": 4,
 "nbformat_minor": 2
}
