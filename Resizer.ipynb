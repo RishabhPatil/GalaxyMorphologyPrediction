{
 "cells": [
  {
   "cell_type": "code",
   "execution_count": 2,
   "metadata": {
    "collapsed": true
   },
   "outputs": [],
   "source": [
    "from PIL import Image\n",
    "import os\n",
    "import matplotlib.pyplot as plt\n",
    "import copy\n",
    "import numpy as np"
   ]
  },
  {
   "cell_type": "code",
   "execution_count": 6,
   "metadata": {},
   "outputs": [
    {
     "name": "stdout",
     "output_type": "stream",
     "text": [
      "61578 of 61578\r"
     ]
    }
   ],
   "source": [
    "size=(28,28)\n",
    "\n",
    "def list_files(folder):\n",
    "\tfiles= os.listdir(folder)\n",
    "\treturn files\n",
    "\n",
    "def resize(folder, output_folder, size=size):\n",
    "\tfiles = list_files(folder)\n",
    "\ttotal_count = len(files)\n",
    "\tcount = 0\n",
    "\tfor f in files:\n",
    "\t\tcount+=1\n",
    "\t\tprint(str(count)+\" of \"+str(total_count), end='\\r', flush=True)\n",
    "\t\tim = Image.open(folder+f)\n",
    "\t\tim=im.convert(\"L\")\n",
    "\t\tim.thumbnail(size)\n",
    "\t\tpath=output_folder+f\n",
    "\t\tim.save(path)\n",
    "\n",
    "resize(\"images_training_rev1/images_training_rev1/\",\"resized_images/\")"
   ]
  }
 ],
 "metadata": {
  "kernelspec": {
   "display_name": "Python 3",
   "language": "python",
   "name": "python3"
  },
  "language_info": {
   "codemirror_mode": {
    "name": "ipython",
    "version": 3
   },
   "file_extension": ".py",
   "mimetype": "text/x-python",
   "name": "python",
   "nbconvert_exporter": "python",
   "pygments_lexer": "ipython3",
   "version": "3.6.1"
  }
 },
 "nbformat": 4,
 "nbformat_minor": 2
}
