{
 "cells": [
  {
   "cell_type": "code",
   "execution_count": 22,
   "metadata": {
    "collapsed": true
   },
   "outputs": [],
   "source": [
    "from PIL import Image\n",
    "import os\n",
    "import matplotlib.pyplot as plt\n",
    "import copy\n",
    "import numpy as np\n",
    "files = os.listdir(\"resized_images/\")"
   ]
  },
  {
   "cell_type": "code",
   "execution_count": 25,
   "metadata": {},
   "outputs": [
    {
     "name": "stdout",
     "output_type": "stream",
     "text": [
      "61578\r"
     ]
    }
   ],
   "source": [
    "output_folder = \"rotated_images/\"\n",
    "count = 0\n",
    "for filename in files:\n",
    "    im = Image.open(\"resized_images/\"+filename)\n",
    "    im=im.convert(\"L\")\n",
    "    pix = np.array(im)\n",
    "    img_no = 0\n",
    "    count+=1\n",
    "    print(str(count), end='\\r', flush=True)\n",
    "    for i in range(4):\n",
    "        im = np.rot90(im,axes=(-2,-1))\n",
    "        img = Image.fromarray(im)\n",
    "        img_no += 1\n",
    "        img.save(output_folder+filename.replace(\".jpg\",\"\")+\"_\"+str(img_no)+\".jpg\")"
   ]
  },
  {
   "cell_type": "code",
   "execution_count": null,
   "metadata": {
    "collapsed": true
   },
   "outputs": [],
   "source": []
  }
 ],
 "metadata": {
  "kernelspec": {
   "display_name": "Python 3",
   "language": "python",
   "name": "python3"
  },
  "language_info": {
   "codemirror_mode": {
    "name": "ipython",
    "version": 3
   },
   "file_extension": ".py",
   "mimetype": "text/x-python",
   "name": "python",
   "nbconvert_exporter": "python",
   "pygments_lexer": "ipython3",
   "version": "3.6.1"
  }
 },
 "nbformat": 4,
 "nbformat_minor": 2
}
