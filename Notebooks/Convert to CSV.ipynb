{
 "cells": [
  {
   "cell_type": "markdown",
   "metadata": {},
   "source": [
    "# Rotated Images to CSV"
   ]
  },
  {
   "cell_type": "code",
   "execution_count": 1,
   "metadata": {},
   "outputs": [
    {
     "name": "stdout",
     "output_type": "stream",
     "text": [
      "246312 of 246312\r"
     ]
    }
   ],
   "source": [
    "from PIL import Image\n",
    "import os\n",
    "\n",
    "def write_header(output_file, size):\n",
    "    \n",
    "    with open(output_file,'w') as f:\n",
    "        data='Filename,Label,'\n",
    "        for i in range(size):\n",
    "            for j in range(size):\n",
    "                data+=str(i)+' '+str(j)+','\n",
    "        f.write(data[:-1])\n",
    "\n",
    "def get_input_files(input_folder):\n",
    "    \n",
    "    filelist=os.listdir(input_folder)\n",
    "\n",
    "    for fichier in filelist[:]:\n",
    "        if not(fichier.endswith(\".jpg\")):\n",
    "            filelist.remove(fichier)\n",
    "\n",
    "    return filelist\n",
    "\n",
    "def read_labels(label_file):\n",
    "    data_labels=[]\n",
    "    label={}\n",
    "    with open('training_solutions_rev1.csv','r') as f:\n",
    "        data_labels=f.read()\n",
    "        data_labels=data_labels.replace('\\r','').split('\\n')\n",
    "        data_labels=data_labels[1:-1]\n",
    "        for i in data_labels:\n",
    "            i=i.split(',')\n",
    "            label[int(i[0])]=int(i.index(max(i[1:4])))\n",
    "    return label\n",
    "\n",
    "def write_output(output_file, input_folder, label_file, size):\n",
    "    write_header(output_file, size)\n",
    "    filelist = get_input_files(input_folder)\n",
    "    label = read_labels(label_file)\n",
    "    \n",
    "    count=0\n",
    "    total_count = len(filelist)\n",
    "    for i in filelist:\n",
    "        count+=1\n",
    "        print(str(count)+\" of \"+str(total_count), end='\\r', flush=True)\n",
    "        im=Image.open(input_folder+i)\n",
    "        pix = im.load()\n",
    "        x,y=im.size\n",
    "        data='\\n'+str(i.split('_')[0])+','+str(label[int(i.split('_')[0])])+\",\"\n",
    "        for j in range(0,x*y):\n",
    "            data+=str(pix[j/x,j%x])+','\n",
    "        with open(output_file,'a') as f:\n",
    "            f.write(data[:-1])\n",
    "\n",
    "write_output(\"output_rotated.csv\", \"rotated_images/\", 'training_solutions_rev1.csv', 28)"
   ]
  }
 ],
 "metadata": {
  "kernelspec": {
   "display_name": "Python 3",
   "language": "python",
   "name": "python3"
  },
  "language_info": {
   "codemirror_mode": {
    "name": "ipython",
    "version": 3
   },
   "file_extension": ".py",
   "mimetype": "text/x-python",
   "name": "python",
   "nbconvert_exporter": "python",
   "pygments_lexer": "ipython3",
   "version": "3.6.1"
  }
 },
 "nbformat": 4,
 "nbformat_minor": 2
}
